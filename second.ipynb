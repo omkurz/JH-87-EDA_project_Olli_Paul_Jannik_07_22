{
 "cells": [
  {
   "cell_type": "code",
   "execution_count": 70,
   "metadata": {},
   "outputs": [],
   "source": [
    "import pandas as pd\n",
    "import numpy as np \n",
    "import matplotlib.pyplot as plt\n",
    "import seaborn as sns\n",
    "pd.set_option('display.max_columns', None)\n",
    "%matplotlib inline\n",
    "sns.set_context('notebook')\n",
    "sns.set_style('whitegrid')\n",
    "sns.set_palette('Blues_r')\n",
    "\n",
    "# turn off warnings for final notebook\n",
    "import warnings\n",
    "warnings.filterwarnings('ignore')\n",
    "\n",
    "\n"
   ]
  },
  {
   "cell_type": "code",
   "execution_count": 71,
   "metadata": {},
   "outputs": [],
   "source": [
    "xls = pd.ExcelFile('data/ultamerge4_date_adjusted.xlsx')\n",
    "hypermerge = pd.read_excel(xls)"
   ]
  },
  {
   "cell_type": "code",
   "execution_count": 76,
   "metadata": {},
   "outputs": [],
   "source": [
    "xls2 = pd.ExcelFile('data/arrival.xlsx')\n",
    "arrival = pd.read_excel(xls2)\n"
   ]
  },
  {
   "cell_type": "code",
   "execution_count": 90,
   "metadata": {},
   "outputs": [],
   "source": [
    "xls3 = pd.ExcelFile('data/arrival_readyscan.xlsx')\n",
    "arr_rdy = pd.read_excel(xls3)"
   ]
  },
  {
   "cell_type": "code",
   "execution_count": 91,
   "metadata": {},
   "outputs": [],
   "source": [
    "xls4 = pd.ExcelFile('data/ready_to_ship.xlsx')\n",
    "ready = pd.read_excel(xls4)"
   ]
  },
  {
   "cell_type": "code",
   "execution_count": 78,
   "metadata": {},
   "outputs": [
    {
     "data": {
      "text/html": [
       "<div>\n",
       "<style scoped>\n",
       "    .dataframe tbody tr th:only-of-type {\n",
       "        vertical-align: middle;\n",
       "    }\n",
       "\n",
       "    .dataframe tbody tr th {\n",
       "        vertical-align: top;\n",
       "    }\n",
       "\n",
       "    .dataframe thead th {\n",
       "        text-align: right;\n",
       "    }\n",
       "</style>\n",
       "<table border=\"1\" class=\"dataframe\">\n",
       "  <thead>\n",
       "    <tr style=\"text-align: right;\">\n",
       "      <th></th>\n",
       "      <th>order_id</th>\n",
       "      <th>order_date</th>\n",
       "      <th>processing</th>\n",
       "      <th>customer_id</th>\n",
       "      <th>customer_name_x</th>\n",
       "      <th>origin_channel</th>\n",
       "      <th>country/region</th>\n",
       "      <th>city</th>\n",
       "      <th>state</th>\n",
       "      <th>postal_code</th>\n",
       "      <th>region</th>\n",
       "      <th>category</th>\n",
       "      <th>sub-category</th>\n",
       "      <th>product_id</th>\n",
       "      <th>sales</th>\n",
       "      <th>quantity</th>\n",
       "      <th>discount</th>\n",
       "      <th>profit</th>\n",
       "      <th>arrival_scan_date</th>\n",
       "      <th>ready_to_ship_date</th>\n",
       "      <th>pickup_date</th>\n",
       "      <th>on_truck_scan_date</th>\n",
       "      <th>processing_unt_shp</th>\n",
       "      <th>processing_unt_arrival</th>\n",
       "      <th>order_weekday</th>\n",
       "      <th>COGS</th>\n",
       "      <th>order_to_pickup</th>\n",
       "      <th>order_day</th>\n",
       "      <th>date_1</th>\n",
       "      <th>ready_to_ship_approx</th>\n",
       "      <th>idle_time_approx</th>\n",
       "    </tr>\n",
       "  </thead>\n",
       "  <tbody>\n",
       "    <tr>\n",
       "      <th>0</th>\n",
       "      <td>CA-2019-121755</td>\n",
       "      <td>2019-01-16</td>\n",
       "      <td>standard_processing</td>\n",
       "      <td>EH-13945</td>\n",
       "      <td>Eric Hoffmann</td>\n",
       "      <td>Email</td>\n",
       "      <td>United States</td>\n",
       "      <td>Los Angeles</td>\n",
       "      <td>California</td>\n",
       "      <td>90049</td>\n",
       "      <td>West</td>\n",
       "      <td>Special Projects Muesil</td>\n",
       "      <td>Gluten Free</td>\n",
       "      <td>TEC-AC-10003027</td>\n",
       "      <td>90.570</td>\n",
       "      <td>3</td>\n",
       "      <td>0.0</td>\n",
       "      <td>11.7741</td>\n",
       "      <td>NaT</td>\n",
       "      <td>NaT</td>\n",
       "      <td>NaT</td>\n",
       "      <td>2019-01-23</td>\n",
       "      <td>7.0</td>\n",
       "      <td>NaN</td>\n",
       "      <td>2</td>\n",
       "      <td>78.7959</td>\n",
       "      <td>7.0</td>\n",
       "      <td>Wednesday</td>\n",
       "      <td>2019-01-18</td>\n",
       "      <td>2019-01-18</td>\n",
       "      <td>5.0</td>\n",
       "    </tr>\n",
       "    <tr>\n",
       "      <th>1</th>\n",
       "      <td>CA-2019-121755</td>\n",
       "      <td>2019-01-16</td>\n",
       "      <td>standard_processing</td>\n",
       "      <td>EH-13945</td>\n",
       "      <td>Eric Hoffmann</td>\n",
       "      <td>Email</td>\n",
       "      <td>United States</td>\n",
       "      <td>Los Angeles</td>\n",
       "      <td>California</td>\n",
       "      <td>90049</td>\n",
       "      <td>West</td>\n",
       "      <td>Power Muesli</td>\n",
       "      <td>Super Fibre Boost</td>\n",
       "      <td>OFF-BI-10001634</td>\n",
       "      <td>11.648</td>\n",
       "      <td>2</td>\n",
       "      <td>0.2</td>\n",
       "      <td>4.2224</td>\n",
       "      <td>NaT</td>\n",
       "      <td>NaT</td>\n",
       "      <td>NaT</td>\n",
       "      <td>2019-01-23</td>\n",
       "      <td>7.0</td>\n",
       "      <td>NaN</td>\n",
       "      <td>2</td>\n",
       "      <td>7.4256</td>\n",
       "      <td>7.0</td>\n",
       "      <td>Wednesday</td>\n",
       "      <td>2019-01-18</td>\n",
       "      <td>2019-01-18</td>\n",
       "      <td>5.0</td>\n",
       "    </tr>\n",
       "    <tr>\n",
       "      <th>2</th>\n",
       "      <td>CA-2019-118255</td>\n",
       "      <td>2019-03-11</td>\n",
       "      <td>express_processing</td>\n",
       "      <td>ON-18715</td>\n",
       "      <td>Odella Nelson</td>\n",
       "      <td>Sales</td>\n",
       "      <td>United States</td>\n",
       "      <td>Eagan</td>\n",
       "      <td>Minnesota</td>\n",
       "      <td>55122</td>\n",
       "      <td>Central</td>\n",
       "      <td>Special Projects Muesil</td>\n",
       "      <td>Gluten Free</td>\n",
       "      <td>TEC-AC-10000171</td>\n",
       "      <td>45.980</td>\n",
       "      <td>2</td>\n",
       "      <td>0.0</td>\n",
       "      <td>19.7714</td>\n",
       "      <td>NaT</td>\n",
       "      <td>NaT</td>\n",
       "      <td>NaT</td>\n",
       "      <td>2019-03-13</td>\n",
       "      <td>2.0</td>\n",
       "      <td>NaN</td>\n",
       "      <td>0</td>\n",
       "      <td>26.2086</td>\n",
       "      <td>2.0</td>\n",
       "      <td>Monday</td>\n",
       "      <td>2019-03-13</td>\n",
       "      <td>2019-03-13</td>\n",
       "      <td>0.0</td>\n",
       "    </tr>\n",
       "    <tr>\n",
       "      <th>3</th>\n",
       "      <td>CA-2019-118255</td>\n",
       "      <td>2019-03-11</td>\n",
       "      <td>express_processing</td>\n",
       "      <td>ON-18715</td>\n",
       "      <td>Odella Nelson</td>\n",
       "      <td>Sales</td>\n",
       "      <td>United States</td>\n",
       "      <td>Eagan</td>\n",
       "      <td>Minnesota</td>\n",
       "      <td>55122</td>\n",
       "      <td>Central</td>\n",
       "      <td>Power Muesli</td>\n",
       "      <td>Super Fibre Boost</td>\n",
       "      <td>OFF-BI-10003291</td>\n",
       "      <td>17.460</td>\n",
       "      <td>2</td>\n",
       "      <td>0.0</td>\n",
       "      <td>8.2062</td>\n",
       "      <td>NaT</td>\n",
       "      <td>NaT</td>\n",
       "      <td>NaT</td>\n",
       "      <td>2019-03-13</td>\n",
       "      <td>2.0</td>\n",
       "      <td>NaN</td>\n",
       "      <td>0</td>\n",
       "      <td>9.2538</td>\n",
       "      <td>2.0</td>\n",
       "      <td>Monday</td>\n",
       "      <td>2019-03-13</td>\n",
       "      <td>2019-03-13</td>\n",
       "      <td>0.0</td>\n",
       "    </tr>\n",
       "    <tr>\n",
       "      <th>4</th>\n",
       "      <td>CA-2019-169194</td>\n",
       "      <td>2019-06-20</td>\n",
       "      <td>standard_processing</td>\n",
       "      <td>LH-16900</td>\n",
       "      <td>Lena Hernandez</td>\n",
       "      <td>Email</td>\n",
       "      <td>United States</td>\n",
       "      <td>Dover</td>\n",
       "      <td>Delaware</td>\n",
       "      <td>19901</td>\n",
       "      <td>East</td>\n",
       "      <td>Special Projects Muesil</td>\n",
       "      <td>Gluten Free</td>\n",
       "      <td>TEC-AC-10002167</td>\n",
       "      <td>45.000</td>\n",
       "      <td>3</td>\n",
       "      <td>0.0</td>\n",
       "      <td>4.9500</td>\n",
       "      <td>NaT</td>\n",
       "      <td>NaT</td>\n",
       "      <td>NaT</td>\n",
       "      <td>2019-06-26</td>\n",
       "      <td>6.0</td>\n",
       "      <td>NaN</td>\n",
       "      <td>3</td>\n",
       "      <td>40.0500</td>\n",
       "      <td>6.0</td>\n",
       "      <td>Thursday</td>\n",
       "      <td>2019-06-22</td>\n",
       "      <td>2019-06-22</td>\n",
       "      <td>4.0</td>\n",
       "    </tr>\n",
       "  </tbody>\n",
       "</table>\n",
       "</div>"
      ],
      "text/plain": [
       "         order_id order_date           processing customer_id customer_name_x  \\\n",
       "0  CA-2019-121755 2019-01-16  standard_processing    EH-13945   Eric Hoffmann   \n",
       "1  CA-2019-121755 2019-01-16  standard_processing    EH-13945   Eric Hoffmann   \n",
       "2  CA-2019-118255 2019-03-11   express_processing    ON-18715   Odella Nelson   \n",
       "3  CA-2019-118255 2019-03-11   express_processing    ON-18715   Odella Nelson   \n",
       "4  CA-2019-169194 2019-06-20  standard_processing    LH-16900  Lena Hernandez   \n",
       "\n",
       "  origin_channel country/region         city       state  postal_code  \\\n",
       "0          Email  United States  Los Angeles  California        90049   \n",
       "1          Email  United States  Los Angeles  California        90049   \n",
       "2          Sales  United States        Eagan   Minnesota        55122   \n",
       "3          Sales  United States        Eagan   Minnesota        55122   \n",
       "4          Email  United States        Dover    Delaware        19901   \n",
       "\n",
       "    region                 category       sub-category       product_id  \\\n",
       "0     West  Special Projects Muesil        Gluten Free  TEC-AC-10003027   \n",
       "1     West             Power Muesli  Super Fibre Boost  OFF-BI-10001634   \n",
       "2  Central  Special Projects Muesil        Gluten Free  TEC-AC-10000171   \n",
       "3  Central             Power Muesli  Super Fibre Boost  OFF-BI-10003291   \n",
       "4     East  Special Projects Muesil        Gluten Free  TEC-AC-10002167   \n",
       "\n",
       "    sales  quantity  discount   profit arrival_scan_date ready_to_ship_date  \\\n",
       "0  90.570         3       0.0  11.7741               NaT                NaT   \n",
       "1  11.648         2       0.2   4.2224               NaT                NaT   \n",
       "2  45.980         2       0.0  19.7714               NaT                NaT   \n",
       "3  17.460         2       0.0   8.2062               NaT                NaT   \n",
       "4  45.000         3       0.0   4.9500               NaT                NaT   \n",
       "\n",
       "  pickup_date on_truck_scan_date  processing_unt_shp  processing_unt_arrival  \\\n",
       "0         NaT         2019-01-23                 7.0                     NaN   \n",
       "1         NaT         2019-01-23                 7.0                     NaN   \n",
       "2         NaT         2019-03-13                 2.0                     NaN   \n",
       "3         NaT         2019-03-13                 2.0                     NaN   \n",
       "4         NaT         2019-06-26                 6.0                     NaN   \n",
       "\n",
       "   order_weekday     COGS  order_to_pickup  order_day     date_1  \\\n",
       "0              2  78.7959              7.0  Wednesday 2019-01-18   \n",
       "1              2   7.4256              7.0  Wednesday 2019-01-18   \n",
       "2              0  26.2086              2.0     Monday 2019-03-13   \n",
       "3              0   9.2538              2.0     Monday 2019-03-13   \n",
       "4              3  40.0500              6.0   Thursday 2019-06-22   \n",
       "\n",
       "  ready_to_ship_approx  idle_time_approx  \n",
       "0           2019-01-18               5.0  \n",
       "1           2019-01-18               5.0  \n",
       "2           2019-03-13               0.0  \n",
       "3           2019-03-13               0.0  \n",
       "4           2019-06-22               4.0  "
      ]
     },
     "execution_count": 78,
     "metadata": {},
     "output_type": "execute_result"
    }
   ],
   "source": [
    "hypermerge.head()"
   ]
  },
  {
   "cell_type": "code",
   "execution_count": 67,
   "metadata": {},
   "outputs": [
    {
     "data": {
      "text/plain": [
       "count    5892.000000\n",
       "mean        6.117787\n",
       "std         2.510012\n",
       "min         0.000000\n",
       "25%         5.000000\n",
       "50%         7.000000\n",
       "75%         8.000000\n",
       "max        12.000000\n",
       "Name: processing_unt_shp, dtype: float64"
      ]
     },
     "execution_count": 67,
     "metadata": {},
     "output_type": "execute_result"
    }
   ],
   "source": [
    "##order_to_pickup/processing to pickupscan\n",
    "# time from orderdate to pickupcscan \n",
    "#mean = 6.1 Days\n",
    "#mode = 7 Days\n",
    "#std = 2.5 Days\n",
    "#50% qurt = median = 7\n",
    "#75% qantile = 8 days \n",
    "hypermerge['processing_unt_shp'].describe()"
   ]
  },
  {
   "cell_type": "code",
   "execution_count": 84,
   "metadata": {},
   "outputs": [
    {
     "data": {
      "text/plain": [
       "0    7.0\n",
       "Name: processing_unt_shp, dtype: float64"
      ]
     },
     "execution_count": 84,
     "metadata": {},
     "output_type": "execute_result"
    }
   ],
   "source": [
    "hypermerge['processing_unt_shp'].mode()"
   ]
  },
  {
   "cell_type": "code",
   "execution_count": 65,
   "metadata": {},
   "outputs": [
    {
     "data": {
      "image/png": "[encoded data removed]",
      "text/plain": [
       "<Figure size 576x288 with 1 Axes>"
      ]
     },
     "metadata": {},
     "output_type": "display_data"
    }
   ],
   "source": [
    "plt.figure(figsize=(8,4))\n",
    "sns.distplot(hypermerge['processing_unt_shp'], bins=12, kde=False,  hist=True,)\n",
    "plt.title('Processing time until shipped', size=16)\n",
    "plt.ylabel('count')\n",
    "plt.xlabel('time');"
   ]
  },
  {
   "cell_type": "code",
   "execution_count": 83,
   "metadata": {},
   "outputs": [
    {
     "data": {
      "image/png": "[encoded data removed]",
      "text/plain": [
       "<Figure size 576x288 with 1 Axes>"
      ]
     },
     "metadata": {},
     "output_type": "display_data"
    }
   ],
   "source": [
    "# idle time from ready to ship to picked up by truck (approximated )\n",
    "# -1/-2 cal errors corrected\n",
    "#mean = 4.3 Days\n",
    "#std = 2.2 Days\n",
    "#50% qurt = median = 5 Days\n",
    "#75% qantile = 6 days \n",
    "plt.figure(figsize=(8,4))\n",
    "sns.distplot(hypermerge['idle_time_approx'],bins=10, kde=False,  hist=True)\n",
    "plt.title('approximated idle time until shipped', size=16)\n",
    "plt.ylabel('count')\n",
    "plt.xlabel('time - days');"
   ]
  },
  {
   "cell_type": "code",
   "execution_count": 79,
   "metadata": {},
   "outputs": [
    {
     "data": {
      "text/plain": [
       "count    5892.000000\n",
       "mean        4.305160\n",
       "std         2.172939\n",
       "min         0.000000\n",
       "25%         3.000000\n",
       "50%         5.000000\n",
       "75%         6.000000\n",
       "max        10.000000\n",
       "Name: idle_time_approx, dtype: float64"
      ]
     },
     "execution_count": 79,
     "metadata": {},
     "output_type": "execute_result"
    }
   ],
   "source": [
    "hypermerge['idle_time_approx'].describe()"
   ]
  },
  {
   "cell_type": "code",
   "execution_count": null,
   "metadata": {},
   "outputs": [],
   "source": [
    "#subset filtered by ready_to_ship_date, 418 rows\n",
    "ready.head()"
   ]
  },
  {
   "cell_type": "code",
   "execution_count": 96,
   "metadata": {},
   "outputs": [],
   "source": [
    "ready['real_processing_time'] = ready['ready_to_ship_date']-ready['order_date']"
   ]
  },
  {
   "cell_type": "code",
   "execution_count": 110,
   "metadata": {},
   "outputs": [],
   "source": [
    "ready['delay_to_ship'] = ready['on_truck_scan_date']-ready['ready_to_ship_date']"
   ]
  },
  {
   "cell_type": "code",
   "execution_count": null,
   "metadata": {},
   "outputs": [],
   "source": [
    "ready.head()"
   ]
  },
  {
   "cell_type": "code",
   "execution_count": null,
   "metadata": {},
   "outputs": [],
   "source": [
    "# measured processing time from order date to ready_to_ship_date\n",
    "#mode 5 days\n",
    "#mean = 4 days\n",
    "#std = 1 day\n",
    "#50% qurt = median = 5 days\n",
    "#75% qantile = 6 days "
   ]
  },
  {
   "cell_type": "code",
   "execution_count": 106,
   "metadata": {},
   "outputs": [
    {
     "data": {
      "image/png": "[encoded data removed]",
      "text/plain": [
       "<Figure size 576x288 with 1 Axes>"
      ]
     },
     "metadata": {},
     "output_type": "display_data"
    }
   ],
   "source": [
    "plt.figure(figsize=(8,4))\n",
    "sns.distplot(ready['real_processing_time'],bins=9, kde=False,  hist=True)\n",
    "plt.title('measured processing time until shipped', size=16)\n",
    "plt.ylabel('count')\n",
    "plt.xlabel('time - days');"
   ]
  },
  {
   "cell_type": "code",
   "execution_count": 98,
   "metadata": {},
   "outputs": [
    {
     "data": {
      "text/plain": [
       "0   5 days\n",
       "Name: real_processing_time, dtype: timedelta64[ns]"
      ]
     },
     "execution_count": 98,
     "metadata": {},
     "output_type": "execute_result"
    }
   ],
   "source": [
    "ready['real_processing_time'].mode()"
   ]
  },
  {
   "cell_type": "code",
   "execution_count": 99,
   "metadata": {},
   "outputs": [
    {
     "data": {
      "text/plain": [
       "count                          418\n",
       "mean     4 days 03:47:22.105263157\n",
       "std      1 days 22:47:56.623622708\n",
       "min                0 days 00:00:00\n",
       "25%                3 days 00:00:00\n",
       "50%                5 days 00:00:00\n",
       "75%                6 days 00:00:00\n",
       "max                8 days 00:00:00\n",
       "Name: real_processing_time, dtype: object"
      ]
     },
     "execution_count": 99,
     "metadata": {},
     "output_type": "execute_result"
    }
   ],
   "source": [
    "ready['real_processing_time'].describe()"
   ]
  },
  {
   "cell_type": "code",
   "execution_count": null,
   "metadata": {},
   "outputs": [],
   "source": [
    "#measured delay, due to waiting on pickup to ship\n",
    "#mode = 2 days\n",
    "#mean = 1.64 day\n",
    "#std = 0.95 days\n",
    "#50% qurt = median =2 days\n",
    "#75% qantile = 2 days"
   ]
  },
  {
   "cell_type": "code",
   "execution_count": 111,
   "metadata": {},
   "outputs": [
    {
     "data": {
      "text/plain": [
       "count                          418\n",
       "mean     1 days 15:26:41.913875598\n",
       "std      0 days 23:12:24.026769113\n",
       "min                0 days 00:00:00\n",
       "25%                1 days 00:00:00\n",
       "50%                2 days 00:00:00\n",
       "75%                2 days 00:00:00\n",
       "max                3 days 00:00:00\n",
       "Name: delay_to_ship, dtype: object"
      ]
     },
     "execution_count": 111,
     "metadata": {},
     "output_type": "execute_result"
    }
   ],
   "source": [
    "ready['delay_to_ship'].describe()"
   ]
  },
  {
   "cell_type": "code",
   "execution_count": 112,
   "metadata": {},
   "outputs": [
    {
     "data": {
      "text/plain": [
       "0   2 days\n",
       "Name: delay_to_ship, dtype: timedelta64[ns]"
      ]
     },
     "execution_count": 112,
     "metadata": {},
     "output_type": "execute_result"
    }
   ],
   "source": [
    "ready['delay_to_ship'].mode()"
   ]
  },
  {
   "cell_type": "code",
   "execution_count": 118,
   "metadata": {},
   "outputs": [
    {
     "data": {
      "image/png": "[encoded data removed]",
      "text/plain": [
       "<Figure size 576x288 with 1 Axes>"
      ]
     },
     "metadata": {},
     "output_type": "display_data"
    }
   ],
   "source": [
    "plt.figure(figsize=(8,4))\n",
    "sns.distplot(ready['delay_to_ship'],bins=4, kde=False,  hist=True)\n",
    "plt.title('delay due to waiting for shipping', size=16)\n",
    "plt.ylabel('count')\n",
    "plt.xlabel('time - days');"
   ]
  },
  {
   "cell_type": "code",
   "execution_count": 154,
   "metadata": {},
   "outputs": [],
   "source": [
    "with pd.ExcelWriter(\"data/ready2.xlsx\") as writer:\n",
    "    ready.to_excel(writer) "
   ]
  },
  {
   "cell_type": "code",
   "execution_count": null,
   "metadata": {},
   "outputs": [],
   "source": [
    "#subset df with 668 rows, all rows have a value for arrive_scan_date\n",
    "#arrival.info()\n",
    "arrival.head()"
   ]
  },
  {
   "cell_type": "code",
   "execution_count": 119,
   "metadata": {},
   "outputs": [],
   "source": [
    "arrival['real_delivery_time'] = arrival['arrival_scan_date']-arrival['on_truck_scan_date']"
   ]
  },
  {
   "cell_type": "code",
   "execution_count": 120,
   "metadata": {},
   "outputs": [
    {
     "data": {
      "text/plain": [
       "0   5 days\n",
       "Name: real_delivery_time, dtype: timedelta64[ns]"
      ]
     },
     "execution_count": 120,
     "metadata": {},
     "output_type": "execute_result"
    }
   ],
   "source": [
    "#measured delivery time,  arrival scan by customer - on_truck_scan_date\n",
    "#mode 5 days\n",
    "#mean 4.56 days\n",
    "#std 1.2 days\n",
    "#50% qurt = median = 5 days\n",
    "#75% 5 days\n",
    "arrival['real_delivery_time'].mode()"
   ]
  },
  {
   "cell_type": "code",
   "execution_count": 121,
   "metadata": {},
   "outputs": [
    {
     "data": {
      "text/plain": [
       "count                          668\n",
       "mean     4 days 13:28:22.994011976\n",
       "std      1 days 05:00:33.077887896\n",
       "min                1 days 00:00:00\n",
       "25%                4 days 00:00:00\n",
       "50%                5 days 00:00:00\n",
       "75%                5 days 00:00:00\n",
       "max                7 days 00:00:00\n",
       "Name: real_delivery_time, dtype: object"
      ]
     },
     "execution_count": 121,
     "metadata": {},
     "output_type": "execute_result"
    }
   ],
   "source": [
    "arrival['real_delivery_time'].describe()"
   ]
  },
  {
   "cell_type": "code",
   "execution_count": 125,
   "metadata": {},
   "outputs": [
    {
     "data": {
      "image/png": "[encoded data removed]",
      "text/plain": [
       "<Figure size 576x288 with 1 Axes>"
      ]
     },
     "metadata": {},
     "output_type": "display_data"
    }
   ],
   "source": [
    "plt.figure(figsize=(8,4))\n",
    "sns.distplot(arrival['real_delivery_time'],bins=6, kde=False,  hist=True)\n",
    "plt.title('measured delivery time', size=16)\n",
    "plt.ylabel('count')\n",
    "plt.xlabel('time - days');"
   ]
  },
  {
   "cell_type": "code",
   "execution_count": 126,
   "metadata": {},
   "outputs": [
    {
     "data": {
      "text/html": [
       "<div>\n",
       "<style scoped>\n",
       "    .dataframe tbody tr th:only-of-type {\n",
       "        vertical-align: middle;\n",
       "    }\n",
       "\n",
       "    .dataframe tbody tr th {\n",
       "        vertical-align: top;\n",
       "    }\n",
       "\n",
       "    .dataframe thead th {\n",
       "        text-align: right;\n",
       "    }\n",
       "</style>\n",
       "<table border=\"1\" class=\"dataframe\">\n",
       "  <thead>\n",
       "    <tr style=\"text-align: right;\">\n",
       "      <th></th>\n",
       "      <th>order_id</th>\n",
       "      <th>order_date</th>\n",
       "      <th>processing</th>\n",
       "      <th>customer_id</th>\n",
       "      <th>customer_name_x</th>\n",
       "      <th>origin_channel</th>\n",
       "      <th>country/region</th>\n",
       "      <th>city</th>\n",
       "      <th>state</th>\n",
       "      <th>postal_code</th>\n",
       "      <th>region</th>\n",
       "      <th>category</th>\n",
       "      <th>sub-category</th>\n",
       "      <th>product_id</th>\n",
       "      <th>sales</th>\n",
       "      <th>quantity</th>\n",
       "      <th>discount</th>\n",
       "      <th>profit</th>\n",
       "      <th>arrival_scan_date</th>\n",
       "      <th>ready_to_ship_date</th>\n",
       "      <th>pickup_date</th>\n",
       "      <th>on_truck_scan_date</th>\n",
       "      <th>processing_unt_shp</th>\n",
       "      <th>processing_unt_arrival</th>\n",
       "      <th>order_weekday</th>\n",
       "      <th>COGS</th>\n",
       "      <th>order_to_pickup</th>\n",
       "      <th>order_day</th>\n",
       "      <th>date_1</th>\n",
       "      <th>ready_to_ship_approx</th>\n",
       "      <th>idle_time_approx</th>\n",
       "      <th>real_delivery_time</th>\n",
       "    </tr>\n",
       "  </thead>\n",
       "  <tbody>\n",
       "    <tr>\n",
       "      <th>0</th>\n",
       "      <td>CA-2019-145625</td>\n",
       "      <td>2019-09-11</td>\n",
       "      <td>standard_processing</td>\n",
       "      <td>KC-16540</td>\n",
       "      <td>Kelly Collister</td>\n",
       "      <td>Email</td>\n",
       "      <td>United States</td>\n",
       "      <td>San Diego</td>\n",
       "      <td>California</td>\n",
       "      <td>92037</td>\n",
       "      <td>West</td>\n",
       "      <td>Special Projects Muesil</td>\n",
       "      <td>Gluten Free</td>\n",
       "      <td>TEC-AC-10003832</td>\n",
       "      <td>3347.37</td>\n",
       "      <td>13</td>\n",
       "      <td>0.0</td>\n",
       "      <td>636.0003</td>\n",
       "      <td>2019-09-23</td>\n",
       "      <td>2019-09-17</td>\n",
       "      <td>2019-09-18</td>\n",
       "      <td>2019-09-18</td>\n",
       "      <td>7</td>\n",
       "      <td>12</td>\n",
       "      <td>2</td>\n",
       "      <td>2711.3697</td>\n",
       "      <td>7</td>\n",
       "      <td>Wednesday</td>\n",
       "      <td>2019-09-13</td>\n",
       "      <td>2019-09-13</td>\n",
       "      <td>5</td>\n",
       "      <td>5 days</td>\n",
       "    </tr>\n",
       "    <tr>\n",
       "      <th>1</th>\n",
       "      <td>CA-2019-145625</td>\n",
       "      <td>2019-09-11</td>\n",
       "      <td>standard_processing</td>\n",
       "      <td>KC-16540</td>\n",
       "      <td>Kelly Collister</td>\n",
       "      <td>Email</td>\n",
       "      <td>United States</td>\n",
       "      <td>San Diego</td>\n",
       "      <td>California</td>\n",
       "      <td>92037</td>\n",
       "      <td>West</td>\n",
       "      <td>Power Muesli</td>\n",
       "      <td>Nuts and more</td>\n",
       "      <td>OFF-PA-10004569</td>\n",
       "      <td>7.61</td>\n",
       "      <td>1</td>\n",
       "      <td>0.0</td>\n",
       "      <td>3.5767</td>\n",
       "      <td>2019-09-23</td>\n",
       "      <td>2019-09-17</td>\n",
       "      <td>2019-09-18</td>\n",
       "      <td>2019-09-18</td>\n",
       "      <td>7</td>\n",
       "      <td>12</td>\n",
       "      <td>2</td>\n",
       "      <td>4.0333</td>\n",
       "      <td>7</td>\n",
       "      <td>Wednesday</td>\n",
       "      <td>2019-09-13</td>\n",
       "      <td>2019-09-13</td>\n",
       "      <td>5</td>\n",
       "      <td>5 days</td>\n",
       "    </tr>\n",
       "    <tr>\n",
       "      <th>2</th>\n",
       "      <td>CA-2019-162138</td>\n",
       "      <td>2019-04-23</td>\n",
       "      <td>standard_processing</td>\n",
       "      <td>GK-14620</td>\n",
       "      <td>Grace Kelly</td>\n",
       "      <td>Sales</td>\n",
       "      <td>United States</td>\n",
       "      <td>Hesperia</td>\n",
       "      <td>California</td>\n",
       "      <td>92345</td>\n",
       "      <td>West</td>\n",
       "      <td>Special Projects Muesil</td>\n",
       "      <td>Gluten Free</td>\n",
       "      <td>TEC-AC-10001908</td>\n",
       "      <td>99.99</td>\n",
       "      <td>1</td>\n",
       "      <td>0.0</td>\n",
       "      <td>34.9965</td>\n",
       "      <td>2019-05-06</td>\n",
       "      <td>NaT</td>\n",
       "      <td>NaT</td>\n",
       "      <td>2019-05-01</td>\n",
       "      <td>8</td>\n",
       "      <td>13</td>\n",
       "      <td>1</td>\n",
       "      <td>64.9935</td>\n",
       "      <td>8</td>\n",
       "      <td>Tuesday</td>\n",
       "      <td>2019-04-25</td>\n",
       "      <td>2019-04-25</td>\n",
       "      <td>6</td>\n",
       "      <td>5 days</td>\n",
       "    </tr>\n",
       "    <tr>\n",
       "      <th>3</th>\n",
       "      <td>CA-2019-162138</td>\n",
       "      <td>2019-04-23</td>\n",
       "      <td>standard_processing</td>\n",
       "      <td>GK-14620</td>\n",
       "      <td>Grace Kelly</td>\n",
       "      <td>Sales</td>\n",
       "      <td>United States</td>\n",
       "      <td>Hesperia</td>\n",
       "      <td>California</td>\n",
       "      <td>92345</td>\n",
       "      <td>West</td>\n",
       "      <td>Power Muesli</td>\n",
       "      <td>Super Fibre Boost</td>\n",
       "      <td>OFF-BI-10004593</td>\n",
       "      <td>251.52</td>\n",
       "      <td>6</td>\n",
       "      <td>0.2</td>\n",
       "      <td>81.7440</td>\n",
       "      <td>2019-05-06</td>\n",
       "      <td>NaT</td>\n",
       "      <td>NaT</td>\n",
       "      <td>2019-05-01</td>\n",
       "      <td>8</td>\n",
       "      <td>13</td>\n",
       "      <td>1</td>\n",
       "      <td>169.7760</td>\n",
       "      <td>8</td>\n",
       "      <td>Tuesday</td>\n",
       "      <td>2019-04-25</td>\n",
       "      <td>2019-04-25</td>\n",
       "      <td>6</td>\n",
       "      <td>5 days</td>\n",
       "    </tr>\n",
       "    <tr>\n",
       "      <th>4</th>\n",
       "      <td>CA-2019-169166</td>\n",
       "      <td>2019-05-09</td>\n",
       "      <td>standard_processing</td>\n",
       "      <td>SS-20590</td>\n",
       "      <td>Sonia Sunley</td>\n",
       "      <td>Email</td>\n",
       "      <td>United States</td>\n",
       "      <td>Seattle</td>\n",
       "      <td>Washington</td>\n",
       "      <td>98115</td>\n",
       "      <td>West</td>\n",
       "      <td>Special Projects Muesil</td>\n",
       "      <td>Gluten Free</td>\n",
       "      <td>TEC-AC-10000991</td>\n",
       "      <td>93.98</td>\n",
       "      <td>2</td>\n",
       "      <td>0.0</td>\n",
       "      <td>13.1572</td>\n",
       "      <td>2019-05-20</td>\n",
       "      <td>NaT</td>\n",
       "      <td>NaT</td>\n",
       "      <td>2019-05-15</td>\n",
       "      <td>6</td>\n",
       "      <td>11</td>\n",
       "      <td>3</td>\n",
       "      <td>80.8228</td>\n",
       "      <td>6</td>\n",
       "      <td>Thursday</td>\n",
       "      <td>2019-05-11</td>\n",
       "      <td>2019-05-11</td>\n",
       "      <td>4</td>\n",
       "      <td>5 days</td>\n",
       "    </tr>\n",
       "  </tbody>\n",
       "</table>\n",
       "</div>"
      ],
      "text/plain": [
       "         order_id order_date           processing customer_id  \\\n",
       "0  CA-2019-145625 2019-09-11  standard_processing    KC-16540   \n",
       "1  CA-2019-145625 2019-09-11  standard_processing    KC-16540   \n",
       "2  CA-2019-162138 2019-04-23  standard_processing    GK-14620   \n",
       "3  CA-2019-162138 2019-04-23  standard_processing    GK-14620   \n",
       "4  CA-2019-169166 2019-05-09  standard_processing    SS-20590   \n",
       "\n",
       "   customer_name_x origin_channel country/region       city       state  \\\n",
       "0  Kelly Collister          Email  United States  San Diego  California   \n",
       "1  Kelly Collister          Email  United States  San Diego  California   \n",
       "2      Grace Kelly          Sales  United States   Hesperia  California   \n",
       "3      Grace Kelly          Sales  United States   Hesperia  California   \n",
       "4     Sonia Sunley          Email  United States    Seattle  Washington   \n",
       "\n",
       "   postal_code region                 category       sub-category  \\\n",
       "0        92037   West  Special Projects Muesil        Gluten Free   \n",
       "1        92037   West             Power Muesli      Nuts and more   \n",
       "2        92345   West  Special Projects Muesil        Gluten Free   \n",
       "3        92345   West             Power Muesli  Super Fibre Boost   \n",
       "4        98115   West  Special Projects Muesil        Gluten Free   \n",
       "\n",
       "        product_id    sales  quantity  discount    profit arrival_scan_date  \\\n",
       "0  TEC-AC-10003832  3347.37        13       0.0  636.0003        2019-09-23   \n",
       "1  OFF-PA-10004569     7.61         1       0.0    3.5767        2019-09-23   \n",
       "2  TEC-AC-10001908    99.99         1       0.0   34.9965        2019-05-06   \n",
       "3  OFF-BI-10004593   251.52         6       0.2   81.7440        2019-05-06   \n",
       "4  TEC-AC-10000991    93.98         2       0.0   13.1572        2019-05-20   \n",
       "\n",
       "  ready_to_ship_date pickup_date on_truck_scan_date  processing_unt_shp  \\\n",
       "0         2019-09-17  2019-09-18         2019-09-18                   7   \n",
       "1         2019-09-17  2019-09-18         2019-09-18                   7   \n",
       "2                NaT         NaT         2019-05-01                   8   \n",
       "3                NaT         NaT         2019-05-01                   8   \n",
       "4                NaT         NaT         2019-05-15                   6   \n",
       "\n",
       "   processing_unt_arrival  order_weekday       COGS  order_to_pickup  \\\n",
       "0                      12              2  2711.3697                7   \n",
       "1                      12              2     4.0333                7   \n",
       "2                      13              1    64.9935                8   \n",
       "3                      13              1   169.7760                8   \n",
       "4                      11              3    80.8228                6   \n",
       "\n",
       "   order_day     date_1 ready_to_ship_approx  idle_time_approx  \\\n",
       "0  Wednesday 2019-09-13           2019-09-13                 5   \n",
       "1  Wednesday 2019-09-13           2019-09-13                 5   \n",
       "2    Tuesday 2019-04-25           2019-04-25                 6   \n",
       "3    Tuesday 2019-04-25           2019-04-25                 6   \n",
       "4   Thursday 2019-05-11           2019-05-11                 4   \n",
       "\n",
       "  real_delivery_time  \n",
       "0             5 days  \n",
       "1             5 days  \n",
       "2             5 days  \n",
       "3             5 days  \n",
       "4             5 days  "
      ]
     },
     "execution_count": 126,
     "metadata": {},
     "output_type": "execute_result"
    }
   ],
   "source": [
    "arrival.head()"
   ]
  },
  {
   "cell_type": "code",
   "execution_count": 146,
   "metadata": {},
   "outputs": [
    {
     "name": "stdout",
     "output_type": "stream",
     "text": [
      "<class 'pandas.core.frame.DataFrame'>\n",
      "RangeIndex: 668 entries, 0 to 667\n",
      "Data columns (total 33 columns):\n",
      " #   Column                  Non-Null Count  Dtype          \n",
      "---  ------                  --------------  -----          \n",
      " 0   order_id                668 non-null    object         \n",
      " 1   order_date              668 non-null    datetime64[ns] \n",
      " 2   processing              668 non-null    object         \n",
      " 3   customer_id             668 non-null    object         \n",
      " 4   customer_name_x         668 non-null    object         \n",
      " 5   origin_channel          668 non-null    object         \n",
      " 6   country/region          668 non-null    object         \n",
      " 7   city                    668 non-null    object         \n",
      " 8   state                   668 non-null    object         \n",
      " 9   postal_code             668 non-null    int64          \n",
      " 10  region                  668 non-null    object         \n",
      " 11  category                668 non-null    object         \n",
      " 12  sub-category            668 non-null    object         \n",
      " 13  product_id              668 non-null    object         \n",
      " 14  sales                   668 non-null    float64        \n",
      " 15  quantity                668 non-null    int64          \n",
      " 16  discount                668 non-null    float64        \n",
      " 17  profit                  668 non-null    float64        \n",
      " 18  arrival_scan_date       668 non-null    datetime64[ns] \n",
      " 19  ready_to_ship_date      41 non-null     datetime64[ns] \n",
      " 20  pickup_date             41 non-null     datetime64[ns] \n",
      " 21  on_truck_scan_date      668 non-null    datetime64[ns] \n",
      " 22  processing_unt_shp      668 non-null    int64          \n",
      " 23  processing_unt_arrival  668 non-null    int64          \n",
      " 24  order_weekday           668 non-null    int64          \n",
      " 25  COGS                    668 non-null    float64        \n",
      " 26  order_to_pickup         668 non-null    int64          \n",
      " 27  order_day               668 non-null    object         \n",
      " 28  date_1                  668 non-null    datetime64[ns] \n",
      " 29  ready_to_ship_approx    668 non-null    datetime64[ns] \n",
      " 30  idle_time_approx        668 non-null    int64          \n",
      " 31  real_delivery_time      668 non-null    timedelta64[ns]\n",
      " 32  total_order_time        668 non-null    timedelta64[ns]\n",
      "dtypes: datetime64[ns](7), float64(4), int64(7), object(13), timedelta64[ns](2)\n",
      "memory usage: 172.3+ KB\n"
     ]
    }
   ],
   "source": [
    "arrival.info()"
   ]
  },
  {
   "cell_type": "code",
   "execution_count": 127,
   "metadata": {},
   "outputs": [],
   "source": [
    "arrival['total_order_time'] = arrival['arrival_scan_date']-arrival['order_date'] "
   ]
  },
  {
   "cell_type": "code",
   "execution_count": 151,
   "metadata": {},
   "outputs": [
    {
     "data": {
      "text/html": [
       "<div>\n",
       "<style scoped>\n",
       "    .dataframe tbody tr th:only-of-type {\n",
       "        vertical-align: middle;\n",
       "    }\n",
       "\n",
       "    .dataframe tbody tr th {\n",
       "        vertical-align: top;\n",
       "    }\n",
       "\n",
       "    .dataframe thead th {\n",
       "        text-align: right;\n",
       "    }\n",
       "</style>\n",
       "<table border=\"1\" class=\"dataframe\">\n",
       "  <thead>\n",
       "    <tr style=\"text-align: right;\">\n",
       "      <th></th>\n",
       "      <th>order_id</th>\n",
       "      <th>order_date</th>\n",
       "      <th>processing</th>\n",
       "      <th>customer_id</th>\n",
       "      <th>customer_name_x</th>\n",
       "      <th>origin_channel</th>\n",
       "      <th>country/region</th>\n",
       "      <th>city</th>\n",
       "      <th>state</th>\n",
       "      <th>postal_code</th>\n",
       "      <th>region</th>\n",
       "      <th>category</th>\n",
       "      <th>sub-category</th>\n",
       "      <th>product_id</th>\n",
       "      <th>sales</th>\n",
       "      <th>quantity</th>\n",
       "      <th>discount</th>\n",
       "      <th>profit</th>\n",
       "      <th>arrival_scan_date</th>\n",
       "      <th>ready_to_ship_date</th>\n",
       "      <th>pickup_date</th>\n",
       "      <th>on_truck_scan_date</th>\n",
       "      <th>processing_unt_shp</th>\n",
       "      <th>processing_unt_arrival</th>\n",
       "      <th>order_weekday</th>\n",
       "      <th>COGS</th>\n",
       "      <th>order_to_pickup</th>\n",
       "      <th>order_day</th>\n",
       "      <th>date_1</th>\n",
       "      <th>ready_to_ship_approx</th>\n",
       "      <th>idle_time_approx</th>\n",
       "      <th>real_delivery_time</th>\n",
       "      <th>total_order_time</th>\n",
       "    </tr>\n",
       "  </thead>\n",
       "  <tbody>\n",
       "    <tr>\n",
       "      <th>0</th>\n",
       "      <td>CA-2019-145625</td>\n",
       "      <td>2019-09-11</td>\n",
       "      <td>standard_processing</td>\n",
       "      <td>KC-16540</td>\n",
       "      <td>Kelly Collister</td>\n",
       "      <td>Email</td>\n",
       "      <td>United States</td>\n",
       "      <td>San Diego</td>\n",
       "      <td>California</td>\n",
       "      <td>92037</td>\n",
       "      <td>West</td>\n",
       "      <td>Special Projects Muesil</td>\n",
       "      <td>Gluten Free</td>\n",
       "      <td>TEC-AC-10003832</td>\n",
       "      <td>3347.37</td>\n",
       "      <td>13</td>\n",
       "      <td>0.0</td>\n",
       "      <td>636.0003</td>\n",
       "      <td>2019-09-23</td>\n",
       "      <td>2019-09-17</td>\n",
       "      <td>2019-09-18</td>\n",
       "      <td>2019-09-18</td>\n",
       "      <td>7</td>\n",
       "      <td>12</td>\n",
       "      <td>2</td>\n",
       "      <td>2711.3697</td>\n",
       "      <td>7</td>\n",
       "      <td>Wednesday</td>\n",
       "      <td>2019-09-13</td>\n",
       "      <td>2019-09-13</td>\n",
       "      <td>5</td>\n",
       "      <td>5 days</td>\n",
       "      <td>12 days</td>\n",
       "    </tr>\n",
       "    <tr>\n",
       "      <th>1</th>\n",
       "      <td>CA-2019-145625</td>\n",
       "      <td>2019-09-11</td>\n",
       "      <td>standard_processing</td>\n",
       "      <td>KC-16540</td>\n",
       "      <td>Kelly Collister</td>\n",
       "      <td>Email</td>\n",
       "      <td>United States</td>\n",
       "      <td>San Diego</td>\n",
       "      <td>California</td>\n",
       "      <td>92037</td>\n",
       "      <td>West</td>\n",
       "      <td>Power Muesli</td>\n",
       "      <td>Nuts and more</td>\n",
       "      <td>OFF-PA-10004569</td>\n",
       "      <td>7.61</td>\n",
       "      <td>1</td>\n",
       "      <td>0.0</td>\n",
       "      <td>3.5767</td>\n",
       "      <td>2019-09-23</td>\n",
       "      <td>2019-09-17</td>\n",
       "      <td>2019-09-18</td>\n",
       "      <td>2019-09-18</td>\n",
       "      <td>7</td>\n",
       "      <td>12</td>\n",
       "      <td>2</td>\n",
       "      <td>4.0333</td>\n",
       "      <td>7</td>\n",
       "      <td>Wednesday</td>\n",
       "      <td>2019-09-13</td>\n",
       "      <td>2019-09-13</td>\n",
       "      <td>5</td>\n",
       "      <td>5 days</td>\n",
       "      <td>12 days</td>\n",
       "    </tr>\n",
       "    <tr>\n",
       "      <th>2</th>\n",
       "      <td>CA-2019-162138</td>\n",
       "      <td>2019-04-23</td>\n",
       "      <td>standard_processing</td>\n",
       "      <td>GK-14620</td>\n",
       "      <td>Grace Kelly</td>\n",
       "      <td>Sales</td>\n",
       "      <td>United States</td>\n",
       "      <td>Hesperia</td>\n",
       "      <td>California</td>\n",
       "      <td>92345</td>\n",
       "      <td>West</td>\n",
       "      <td>Special Projects Muesil</td>\n",
       "      <td>Gluten Free</td>\n",
       "      <td>TEC-AC-10001908</td>\n",
       "      <td>99.99</td>\n",
       "      <td>1</td>\n",
       "      <td>0.0</td>\n",
       "      <td>34.9965</td>\n",
       "      <td>2019-05-06</td>\n",
       "      <td>NaT</td>\n",
       "      <td>NaT</td>\n",
       "      <td>2019-05-01</td>\n",
       "      <td>8</td>\n",
       "      <td>13</td>\n",
       "      <td>1</td>\n",
       "      <td>64.9935</td>\n",
       "      <td>8</td>\n",
       "      <td>Tuesday</td>\n",
       "      <td>2019-04-25</td>\n",
       "      <td>2019-04-25</td>\n",
       "      <td>6</td>\n",
       "      <td>5 days</td>\n",
       "      <td>13 days</td>\n",
       "    </tr>\n",
       "    <tr>\n",
       "      <th>3</th>\n",
       "      <td>CA-2019-162138</td>\n",
       "      <td>2019-04-23</td>\n",
       "      <td>standard_processing</td>\n",
       "      <td>GK-14620</td>\n",
       "      <td>Grace Kelly</td>\n",
       "      <td>Sales</td>\n",
       "      <td>United States</td>\n",
       "      <td>Hesperia</td>\n",
       "      <td>California</td>\n",
       "      <td>92345</td>\n",
       "      <td>West</td>\n",
       "      <td>Power Muesli</td>\n",
       "      <td>Super Fibre Boost</td>\n",
       "      <td>OFF-BI-10004593</td>\n",
       "      <td>251.52</td>\n",
       "      <td>6</td>\n",
       "      <td>0.2</td>\n",
       "      <td>81.7440</td>\n",
       "      <td>2019-05-06</td>\n",
       "      <td>NaT</td>\n",
       "      <td>NaT</td>\n",
       "      <td>2019-05-01</td>\n",
       "      <td>8</td>\n",
       "      <td>13</td>\n",
       "      <td>1</td>\n",
       "      <td>169.7760</td>\n",
       "      <td>8</td>\n",
       "      <td>Tuesday</td>\n",
       "      <td>2019-04-25</td>\n",
       "      <td>2019-04-25</td>\n",
       "      <td>6</td>\n",
       "      <td>5 days</td>\n",
       "      <td>13 days</td>\n",
       "    </tr>\n",
       "    <tr>\n",
       "      <th>4</th>\n",
       "      <td>CA-2019-169166</td>\n",
       "      <td>2019-05-09</td>\n",
       "      <td>standard_processing</td>\n",
       "      <td>SS-20590</td>\n",
       "      <td>Sonia Sunley</td>\n",
       "      <td>Email</td>\n",
       "      <td>United States</td>\n",
       "      <td>Seattle</td>\n",
       "      <td>Washington</td>\n",
       "      <td>98115</td>\n",
       "      <td>West</td>\n",
       "      <td>Special Projects Muesil</td>\n",
       "      <td>Gluten Free</td>\n",
       "      <td>TEC-AC-10000991</td>\n",
       "      <td>93.98</td>\n",
       "      <td>2</td>\n",
       "      <td>0.0</td>\n",
       "      <td>13.1572</td>\n",
       "      <td>2019-05-20</td>\n",
       "      <td>NaT</td>\n",
       "      <td>NaT</td>\n",
       "      <td>2019-05-15</td>\n",
       "      <td>6</td>\n",
       "      <td>11</td>\n",
       "      <td>3</td>\n",
       "      <td>80.8228</td>\n",
       "      <td>6</td>\n",
       "      <td>Thursday</td>\n",
       "      <td>2019-05-11</td>\n",
       "      <td>2019-05-11</td>\n",
       "      <td>4</td>\n",
       "      <td>5 days</td>\n",
       "      <td>11 days</td>\n",
       "    </tr>\n",
       "  </tbody>\n",
       "</table>\n",
       "</div>"
      ],
      "text/plain": [
       "         order_id order_date           processing customer_id  \\\n",
       "0  CA-2019-145625 2019-09-11  standard_processing    KC-16540   \n",
       "1  CA-2019-145625 2019-09-11  standard_processing    KC-16540   \n",
       "2  CA-2019-162138 2019-04-23  standard_processing    GK-14620   \n",
       "3  CA-2019-162138 2019-04-23  standard_processing    GK-14620   \n",
       "4  CA-2019-169166 2019-05-09  standard_processing    SS-20590   \n",
       "\n",
       "   customer_name_x origin_channel country/region       city       state  \\\n",
       "0  Kelly Collister          Email  United States  San Diego  California   \n",
       "1  Kelly Collister          Email  United States  San Diego  California   \n",
       "2      Grace Kelly          Sales  United States   Hesperia  California   \n",
       "3      Grace Kelly          Sales  United States   Hesperia  California   \n",
       "4     Sonia Sunley          Email  United States    Seattle  Washington   \n",
       "\n",
       "   postal_code region                 category       sub-category  \\\n",
       "0        92037   West  Special Projects Muesil        Gluten Free   \n",
       "1        92037   West             Power Muesli      Nuts and more   \n",
       "2        92345   West  Special Projects Muesil        Gluten Free   \n",
       "3        92345   West             Power Muesli  Super Fibre Boost   \n",
       "4        98115   West  Special Projects Muesil        Gluten Free   \n",
       "\n",
       "        product_id    sales  quantity  discount    profit arrival_scan_date  \\\n",
       "0  TEC-AC-10003832  3347.37        13       0.0  636.0003        2019-09-23   \n",
       "1  OFF-PA-10004569     7.61         1       0.0    3.5767        2019-09-23   \n",
       "2  TEC-AC-10001908    99.99         1       0.0   34.9965        2019-05-06   \n",
       "3  OFF-BI-10004593   251.52         6       0.2   81.7440        2019-05-06   \n",
       "4  TEC-AC-10000991    93.98         2       0.0   13.1572        2019-05-20   \n",
       "\n",
       "  ready_to_ship_date pickup_date on_truck_scan_date  processing_unt_shp  \\\n",
       "0         2019-09-17  2019-09-18         2019-09-18                   7   \n",
       "1         2019-09-17  2019-09-18         2019-09-18                   7   \n",
       "2                NaT         NaT         2019-05-01                   8   \n",
       "3                NaT         NaT         2019-05-01                   8   \n",
       "4                NaT         NaT         2019-05-15                   6   \n",
       "\n",
       "   processing_unt_arrival  order_weekday       COGS  order_to_pickup  \\\n",
       "0                      12              2  2711.3697                7   \n",
       "1                      12              2     4.0333                7   \n",
       "2                      13              1    64.9935                8   \n",
       "3                      13              1   169.7760                8   \n",
       "4                      11              3    80.8228                6   \n",
       "\n",
       "   order_day     date_1 ready_to_ship_approx  idle_time_approx  \\\n",
       "0  Wednesday 2019-09-13           2019-09-13                 5   \n",
       "1  Wednesday 2019-09-13           2019-09-13                 5   \n",
       "2    Tuesday 2019-04-25           2019-04-25                 6   \n",
       "3    Tuesday 2019-04-25           2019-04-25                 6   \n",
       "4   Thursday 2019-05-11           2019-05-11                 4   \n",
       "\n",
       "  real_delivery_time total_order_time  \n",
       "0             5 days          12 days  \n",
       "1             5 days          12 days  \n",
       "2             5 days          13 days  \n",
       "3             5 days          13 days  \n",
       "4             5 days          11 days  "
      ]
     },
     "execution_count": 151,
     "metadata": {},
     "output_type": "execute_result"
    }
   ],
   "source": [
    "arrival.head()"
   ]
  },
  {
   "cell_type": "code",
   "execution_count": null,
   "metadata": {},
   "outputs": [],
   "source": [
    "# total time from order till delivery\n",
    "#mode 13 days\n",
    "#mean 11.9 days\n",
    "#std 2.9 days\n",
    "#50% qurt = median = 12 days\n",
    "#75% 13 days"
   ]
  },
  {
   "cell_type": "code",
   "execution_count": 131,
   "metadata": {},
   "outputs": [
    {
     "data": {
      "text/plain": [
       "count                           668\n",
       "mean     10 days 21:16:10.059880239\n",
       "std       2 days 21:04:34.269950730\n",
       "min                 3 days 00:00:00\n",
       "25%                 9 days 00:00:00\n",
       "50%                12 days 00:00:00\n",
       "75%                13 days 00:00:00\n",
       "max                17 days 00:00:00\n",
       "Name: total_order_time, dtype: object"
      ]
     },
     "execution_count": 131,
     "metadata": {},
     "output_type": "execute_result"
    }
   ],
   "source": [
    "arrival['total_order_time'].describe()"
   ]
  },
  {
   "cell_type": "code",
   "execution_count": 132,
   "metadata": {},
   "outputs": [
    {
     "data": {
      "text/plain": [
       "0   13 days\n",
       "Name: total_order_time, dtype: timedelta64[ns]"
      ]
     },
     "execution_count": 132,
     "metadata": {},
     "output_type": "execute_result"
    }
   ],
   "source": [
    "arrival['total_order_time'].mode()"
   ]
  },
  {
   "cell_type": "code",
   "execution_count": 136,
   "metadata": {},
   "outputs": [
    {
     "data": {
      "image/png": "[encoded data removed]",
      "text/plain": [
       "<Figure size 576x288 with 1 Axes>"
      ]
     },
     "metadata": {},
     "output_type": "display_data"
    }
   ],
   "source": [
    "#total time passed from order to shipment arriving at customer\n",
    "plt.figure(figsize=(8,4))\n",
    "sns.distplot(arrival['total_order_time'], kde=False,  hist=True)\n",
    "plt.title('total order time', size=16)\n",
    "plt.ylabel('count');"
   ]
  },
  {
   "cell_type": "code",
   "execution_count": null,
   "metadata": {},
   "outputs": [],
   "source": [
    "arrival.info()\n"
   ]
  },
  {
   "cell_type": "code",
   "execution_count": 150,
   "metadata": {},
   "outputs": [
    {
     "ename": "TypeError",
     "evalue": "dtype timedelta64[ns] cannot be converted to datetime64[ns]",
     "output_type": "error",
     "traceback": [
      "\u001b[0;31m---------------------------------------------------------------------------\u001b[0m",
      "\u001b[0;31mTypeError\u001b[0m                                 Traceback (most recent call last)",
      "\u001b[1;32m/Users/jannik/Desktop/DA_Bootcamp/JH-87-EDA_project_Olli_Paul_Jannik_07_22/second.ipynb Cell 37\u001b[0m in \u001b[0;36m<cell line: 1>\u001b[0;34m()\u001b[0m\n\u001b[0;32m----> <a href='vscode-notebook-cell:/Users/jannik/Desktop/DA_Bootcamp/JH-87-EDA_project_Olli_Paul_Jannik_07_22/second.ipynb#ch0000047?line=0'>1</a>\u001b[0m arrival[\u001b[39m'\u001b[39m\u001b[39mtotal_order_time\u001b[39m\u001b[39m'\u001b[39m] \u001b[39m=\u001b[39m pd\u001b[39m.\u001b[39;49mto_datetime(arrival[\u001b[39m'\u001b[39;49m\u001b[39mtotal_order_time\u001b[39;49m\u001b[39m'\u001b[39;49m], \u001b[39mformat\u001b[39;49m\u001b[39m=\u001b[39;49m\u001b[39m'\u001b[39;49m\u001b[39m%d\u001b[39;49;00m\u001b[39m.\u001b[39;49m\u001b[39m%\u001b[39;49m\u001b[39mm.\u001b[39;49m\u001b[39m%\u001b[39;49m\u001b[39mY\u001b[39;49m\u001b[39m'\u001b[39;49m)\n",
      "File \u001b[0;32m/opt/homebrew/Caskroom/miniconda/base/envs/nf_base/lib/python3.9/site-packages/pandas/core/tools/datetimes.py:1047\u001b[0m, in \u001b[0;36mto_datetime\u001b[0;34m(arg, errors, dayfirst, yearfirst, utc, format, exact, unit, infer_datetime_format, origin, cache)\u001b[0m\n\u001b[1;32m   1045\u001b[0m             result \u001b[39m=\u001b[39m arg\u001b[39m.\u001b[39mtz_localize(tz)\n\u001b[1;32m   1046\u001b[0m \u001b[39melif\u001b[39;00m \u001b[39misinstance\u001b[39m(arg, ABCSeries):\n\u001b[0;32m-> 1047\u001b[0m     cache_array \u001b[39m=\u001b[39m _maybe_cache(arg, \u001b[39mformat\u001b[39;49m, cache, convert_listlike)\n\u001b[1;32m   1048\u001b[0m     \u001b[39mif\u001b[39;00m \u001b[39mnot\u001b[39;00m cache_array\u001b[39m.\u001b[39mempty:\n\u001b[1;32m   1049\u001b[0m         result \u001b[39m=\u001b[39m arg\u001b[39m.\u001b[39mmap(cache_array)\n",
      "File \u001b[0;32m/opt/homebrew/Caskroom/miniconda/base/envs/nf_base/lib/python3.9/site-packages/pandas/core/tools/datetimes.py:197\u001b[0m, in \u001b[0;36m_maybe_cache\u001b[0;34m(arg, format, cache, convert_listlike)\u001b[0m\n\u001b[1;32m    195\u001b[0m unique_dates \u001b[39m=\u001b[39m unique(arg)\n\u001b[1;32m    196\u001b[0m \u001b[39mif\u001b[39;00m \u001b[39mlen\u001b[39m(unique_dates) \u001b[39m<\u001b[39m \u001b[39mlen\u001b[39m(arg):\n\u001b[0;32m--> 197\u001b[0m     cache_dates \u001b[39m=\u001b[39m convert_listlike(unique_dates, \u001b[39mformat\u001b[39;49m)\n\u001b[1;32m    198\u001b[0m     cache_array \u001b[39m=\u001b[39m Series(cache_dates, index\u001b[39m=\u001b[39munique_dates)\n\u001b[1;32m    199\u001b[0m     \u001b[39m# GH#39882 and GH#35888 in case of None and NaT we get duplicates\u001b[39;00m\n",
      "File \u001b[0;32m/opt/homebrew/Caskroom/miniconda/base/envs/nf_base/lib/python3.9/site-packages/pandas/core/tools/datetimes.py:367\u001b[0m, in \u001b[0;36m_convert_listlike_datetimes\u001b[0;34m(arg, format, name, tz, unit, errors, infer_datetime_format, dayfirst, yearfirst, exact)\u001b[0m\n\u001b[1;32m    365\u001b[0m orig_arg \u001b[39m=\u001b[39m arg\n\u001b[1;32m    366\u001b[0m \u001b[39mtry\u001b[39;00m:\n\u001b[0;32m--> 367\u001b[0m     arg, _ \u001b[39m=\u001b[39m maybe_convert_dtype(arg, copy\u001b[39m=\u001b[39;49m\u001b[39mFalse\u001b[39;49;00m)\n\u001b[1;32m    368\u001b[0m \u001b[39mexcept\u001b[39;00m \u001b[39mTypeError\u001b[39;00m:\n\u001b[1;32m    369\u001b[0m     \u001b[39mif\u001b[39;00m errors \u001b[39m==\u001b[39m \u001b[39m\"\u001b[39m\u001b[39mcoerce\u001b[39m\u001b[39m\"\u001b[39m:\n",
      "File \u001b[0;32m/opt/homebrew/Caskroom/miniconda/base/envs/nf_base/lib/python3.9/site-packages/pandas/core/arrays/datetimes.py:2301\u001b[0m, in \u001b[0;36mmaybe_convert_dtype\u001b[0;34m(data, copy)\u001b[0m\n\u001b[1;32m   2296\u001b[0m     \u001b[39m# TODO: deprecate this behavior to instead treat symmetrically\u001b[39;00m\n\u001b[1;32m   2297\u001b[0m     \u001b[39m#  with integer dtypes.  See discussion in GH#23675\u001b[39;00m\n\u001b[1;32m   2299\u001b[0m \u001b[39melif\u001b[39;00m is_timedelta64_dtype(data\u001b[39m.\u001b[39mdtype) \u001b[39mor\u001b[39;00m is_bool_dtype(data\u001b[39m.\u001b[39mdtype):\n\u001b[1;32m   2300\u001b[0m     \u001b[39m# GH#29794 enforcing deprecation introduced in GH#23539\u001b[39;00m\n\u001b[0;32m-> 2301\u001b[0m     \u001b[39mraise\u001b[39;00m \u001b[39mTypeError\u001b[39;00m(\u001b[39mf\u001b[39m\u001b[39m\"\u001b[39m\u001b[39mdtype \u001b[39m\u001b[39m{\u001b[39;00mdata\u001b[39m.\u001b[39mdtype\u001b[39m}\u001b[39;00m\u001b[39m cannot be converted to datetime64[ns]\u001b[39m\u001b[39m\"\u001b[39m)\n\u001b[1;32m   2302\u001b[0m \u001b[39melif\u001b[39;00m is_period_dtype(data\u001b[39m.\u001b[39mdtype):\n\u001b[1;32m   2303\u001b[0m     \u001b[39m# Note: without explicitly raising here, PeriodIndex\u001b[39;00m\n\u001b[1;32m   2304\u001b[0m     \u001b[39m#  test_setops.test_join_does_not_recur fails\u001b[39;00m\n\u001b[1;32m   2305\u001b[0m     \u001b[39mraise\u001b[39;00m \u001b[39mTypeError\u001b[39;00m(\n\u001b[1;32m   2306\u001b[0m         \u001b[39m\"\u001b[39m\u001b[39mPassing PeriodDtype data is invalid. Use `data.to_timestamp()` instead\u001b[39m\u001b[39m\"\u001b[39m\n\u001b[1;32m   2307\u001b[0m     )\n",
      "\u001b[0;31mTypeError\u001b[0m: dtype timedelta64[ns] cannot be converted to datetime64[ns]"
     ]
    }
   ],
   "source": [
    "arrival['total_order_time'] = pd.to_datetime(arrival['total_order_time'], format='%d.%m.%Y')"
   ]
  },
  {
   "cell_type": "code",
   "execution_count": 153,
   "metadata": {},
   "outputs": [],
   "source": [
    "with pd.ExcelWriter(\"data/arrival2.xlsx\") as writer:\n",
    "    arrival.to_excel(writer) "
   ]
  }
 ],
 "metadata": {
  "kernelspec": {
   "display_name": "Python 3.9.13 ('nf_base')",
   "language": "python",
   "name": "python3"
  },
  "language_info": {
   "codemirror_mode": {
    "name": "ipython",
    "version": 3
   },
   "file_extension": ".py",
   "mimetype": "text/x-python",
   "name": "python",
   "nbconvert_exporter": "python",
   "pygments_lexer": "ipython3",
   "version": "3.9.13"
  },
  "orig_nbformat": 4,
  "vscode": {
   "interpreter": {
    "hash": "ab3d85a18739f6fff6a9c8c504adc2ff9340867b576dede986e2ee74c099e4e5"
   }
  }
 },
 "nbformat": 4,
 "nbformat_minor": 2
}
